{
 "cells": [
  {
   "metadata": {},
   "cell_type": "markdown",
   "source": [
    "# LlamaFactory 训练\n",
    "\n",
    "## 数据处理\n",
    "这对sft文件，llamafactory支持多种数据格式，这里选用alpaca，每条数据只需要包含三个字段\n",
    "- instruction列对应的内容为人类指令\n",
    "- input列对应的内容为人类输入\n",
    "- output列对应的内容为模型回答\n",
    "```json\n",
    "{\n",
    "  \"instruction\": \"计算这些物品的总费用\",\n",
    "  \"input\": \"输入：汽车 - $3000， 衣服 - 1000$， 书 - 20 $\",\n",
    "  \"output\": \"汽车，衣服和书的总费用为 $3120\"\n",
    "}\n",
    "```\n",
    "为了格式匹配，封装一个函数`to_alpaca`用于转换数据"
   ],
   "id": "f46f4f197d6c9219"
  },
  {
   "cell_type": "code",
   "execution_count": null,
   "id": "initial_id",
   "metadata": {
    "collapsed": true
   },
   "outputs": [],
   "source": [
    "import json\n",
    "def to_alpaca(input_path, output_path):\n",
    "    with open(input_path, 'r', encoding='utf-8') as json_file, open(output_path, 'w', encoding='utf-8') as outfile:\n",
    "        dataset = []\n",
    "        for line in json_file:\n",
    "            data = json.loads(line)\n",
    "            item = {\n",
    "                'input': data['input'],\n",
    "                'output': json.dumps({'is_fraud':data['label']}, ensure_ascii=False),\n",
    "                'instruction': data['instruction'],\n",
    "            }\n",
    "            dataset.append(item)\n",
    "        # 将结果写入输出文件\n",
    "        outfile.write(json.dumps(dataset,indent=4, ensure_ascii=False))\n",
    "        print(f\"convert {input_path} to {output_path}\")"
   ]
  },
  {
   "metadata": {},
   "cell_type": "markdown",
   "source": [
    "## 训练参数配置\n",
    "LLamaFactory的训练参数采用yaml文件保存，在安装目录下的`examples`子目录下有各种微调方法的示例配置,可以拷贝一份进行修改，yaml文件中采用分块配置"
   ],
   "id": "a38cd76a1a869fb7"
  }
 ],
 "metadata": {
  "kernelspec": {
   "display_name": "Python 3",
   "language": "python",
   "name": "python3"
  },
  "language_info": {
   "codemirror_mode": {
    "name": "ipython",
    "version": 2
   },
   "file_extension": ".py",
   "mimetype": "text/x-python",
   "name": "python",
   "nbconvert_exporter": "python",
   "pygments_lexer": "ipython2",
   "version": "2.7.6"
  }
 },
 "nbformat": 4,
 "nbformat_minor": 5
}
