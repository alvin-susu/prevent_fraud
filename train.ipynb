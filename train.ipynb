{
 "cells": [
  {
   "cell_type": "code",
   "id": "initial_id",
   "metadata": {
    "collapsed": true,
    "ExecuteTime": {
     "end_time": "2025-02-12T10:04:03.386827Z",
     "start_time": "2025-02-12T10:04:03.371194Z"
    }
   },
   "source": [
    "import os\n",
    "import json\n",
    "import re\n",
    "import torch\n",
    "from transformers import AutoModelForCausalLM, AutoTokenizer\n",
    "from peft import PeftModel\n",
    "from sklearn.metrics import confusion_matrix, roc_curve, precision_recall_curve, auc\n",
    "import pandas as pd\n",
    "from tqdm import tqdm  # Import tqdm"
   ],
   "outputs": [],
   "execution_count": 21
  },
  {
   "metadata": {},
   "cell_type": "markdown",
   "source": "# 加载数据",
   "id": "e42dc77fe6245ee"
  },
  {
   "metadata": {
    "ExecuteTime": {
     "end_time": "2025-02-12T10:04:03.963273Z",
     "start_time": "2025-02-12T10:04:03.947556Z"
    }
   },
   "cell_type": "code",
   "source": [
    "test_data_path = \"./datasets/train_test/test0819.jsonl\"\n",
    "model_path = r\"D:\\Pretrained_models\\Qwen\\Qwen2-1___5B-Instruct\""
   ],
   "id": "63b5b4fde06bb5df",
   "outputs": [],
   "execution_count": 22
  },
  {
   "metadata": {
    "ExecuteTime": {
     "end_time": "2025-02-12T10:04:04.319455Z",
     "start_time": "2025-02-12T10:04:04.290560Z"
    }
   },
   "cell_type": "code",
   "source": [
    "import chardet\n",
    "\n",
    "\n",
    "def load_jsonl(path):\n",
    "    with open(path, 'r', encoding=\"utf-8\") as file:\n",
    "        data = [json.loads(line) for line in file]\n",
    "        return data\n",
    "\n",
    "\n",
    "test_data = load_jsonl(test_data_path)\n",
    "\n",
    "true_data = [d for d in test_data if d['label'] == True]\n",
    "false_data = [d for d in test_data if d['label'] == False]\n",
    "print(f\"total_count:{len(test_data)}, true_count:{len(true_data)}, false_count:{len(false_data)}\")"
   ],
   "id": "1528b78928e0d81",
   "outputs": [
    {
     "name": "stdout",
     "output_type": "stream",
     "text": [
      "total_count:2349, true_count:1182, false_count:1167\n"
     ]
    }
   ],
   "execution_count": 23
  },
  {
   "metadata": {},
   "cell_type": "markdown",
   "source": "# 加载模型",
   "id": "ba91c1a32c50ec7a"
  },
  {
   "metadata": {
    "ExecuteTime": {
     "end_time": "2025-02-12T10:04:05.433186Z",
     "start_time": "2025-02-12T10:04:05.154589Z"
    }
   },
   "cell_type": "code",
   "source": [
    "def load_model(model_path, checkpoint_path='', device='cuda'):\n",
    "    # 加载tokenizer\n",
    "    tokenizer = AutoTokenizer.from_pretrained(model_path, trust_remote_code=True)\n",
    "    # 加载模型\n",
    "    model = AutoModelForCausalLM.from_pretrained(model_path, trust_remote_code=True, torch_dtype=torch.bfloat16)\n",
    "    # 加载LoRA权重\n",
    "    if checkpoint_path:\n",
    "        model = PeftModel.from_pretrained(model, checkpoint_path).to(device)\n",
    "\n",
    "    return model, tokenizer\n",
    "\n",
    "\n",
    "model, tokenizer = load_model(model_path, device='cuda')\n",
    "model"
   ],
   "id": "eccbb47e53d8737e",
   "outputs": [
    {
     "data": {
      "text/plain": [
       "Qwen2ForCausalLM(\n",
       "  (model): Qwen2Model(\n",
       "    (embed_tokens): Embedding(151936, 1536)\n",
       "    (layers): ModuleList(\n",
       "      (0-27): 28 x Qwen2DecoderLayer(\n",
       "        (self_attn): Qwen2Attention(\n",
       "          (q_proj): Linear(in_features=1536, out_features=1536, bias=True)\n",
       "          (k_proj): Linear(in_features=1536, out_features=256, bias=True)\n",
       "          (v_proj): Linear(in_features=1536, out_features=256, bias=True)\n",
       "          (o_proj): Linear(in_features=1536, out_features=1536, bias=False)\n",
       "        )\n",
       "        (mlp): Qwen2MLP(\n",
       "          (gate_proj): Linear(in_features=1536, out_features=8960, bias=False)\n",
       "          (up_proj): Linear(in_features=1536, out_features=8960, bias=False)\n",
       "          (down_proj): Linear(in_features=8960, out_features=1536, bias=False)\n",
       "          (act_fn): SiLU()\n",
       "        )\n",
       "        (input_layernorm): Qwen2RMSNorm((1536,), eps=1e-06)\n",
       "        (post_attention_layernorm): Qwen2RMSNorm((1536,), eps=1e-06)\n",
       "      )\n",
       "    )\n",
       "    (norm): Qwen2RMSNorm((1536,), eps=1e-06)\n",
       "    (rotary_emb): Qwen2RotaryEmbedding()\n",
       "  )\n",
       "  (lm_head): Linear(in_features=1536, out_features=151936, bias=False)\n",
       ")"
      ]
     },
     "execution_count": 24,
     "metadata": {},
     "output_type": "execute_result"
    }
   ],
   "execution_count": 24
  },
  {
   "metadata": {},
   "cell_type": "markdown",
   "source": [
    "# 推理函数\n",
    "定义一个推理函数 predict, 用传入的模型和一条对话文本来进行欺诈文本分类的推理\n",
    "1. 既要测试原始模型，也要测试微调后的模型，并且可能会微调多个版本，所以把model和tokenizer作为参数传入\n",
    "2. 由于模型预测结果的不确定性，在使用json加载解析response时可能会报一场，需要加一个safe_loads保护"
   ],
   "id": "78ef5fc88e7c6b47"
  },
  {
   "metadata": {
    "ExecuteTime": {
     "end_time": "2025-02-12T10:04:26.645548Z",
     "start_time": "2025-02-12T10:04:26.633449Z"
    }
   },
   "cell_type": "code",
   "source": [
    "def safe_loads(text, default_value=None, debug = False):\n",
    "    print(f\"safe_loads and text is {text}\") if debug else None\n",
    "    json_string = re.sub(r'^```json\\n(.*)\\n```$', r'\\1', text.strip(), flags=re.DOTALL)\n",
    "    try:\n",
    "        return json.loads(json_string)\n",
    "    except json.JSONDecodeError as e:\n",
    "        print(f\"invalid json: {json_string}\")\n",
    "        return default_value\n",
    "\n",
    "\n",
    "def predict(model, tokenizer, content, device='cuda', debug=False):\n",
    "    prompt = f\"下面是一段对话文本，请分析对话内容是否有诈骗风险，只以json格式输出你的判断结果(is_fraud:true/false)。\\n\\n{content}\"\n",
    "\n",
    "    # 返回的格式是 [batch_size, sequence_length]，其中 batch_size 是输入的样本数量，sequence_length 是输入文本的 token 数量（经过 tokenizer 处理后的文本\n",
    "    inputs = tokenizer.apply_chat_template(\n",
    "        [{\n",
    "            \"role\": \"user\",\n",
    "            \"content\": prompt,\n",
    "        }],\n",
    "        add_generation_prompt=True,\n",
    "        tokenize=True,\n",
    "        return_tensors=\"pt\",\n",
    "        return_dict=True).to(device)\n",
    "\n",
    "    default_response = {\"is_fraud\":False}\n",
    "    gen_kwargs = {\"max_new_tokens\":2048, \"do_sample\":True, \"top_k\":1}\n",
    "\n",
    "    # 将模型加载到显存\n",
    "    model.to(device)\n",
    "\n",
    "    with torch.no_grad():\n",
    "        outputs = model.generate(**inputs, **gen_kwargs)\n",
    "        outputs = outputs[:, inputs['input_ids'].shape[1]:]\n",
    "        response = tokenizer.decode(outputs[0], skip_special_tokens=True)\n",
    "        return safe_loads(response, default_response)"
   ],
   "id": "2c533ae855417aa4",
   "outputs": [],
   "execution_count": 27
  },
  {
   "metadata": {
    "ExecuteTime": {
     "end_time": "2025-02-12T10:04:27.984357Z",
     "start_time": "2025-02-12T10:04:27.296648Z"
    }
   },
   "cell_type": "code",
   "source": "predict(model,tokenizer, \"李强: 很好。接下来请你在APP上充值50元并完成一个简单的购物任务，完成后你会看到返利进入你的账户。\\n王丽: 我已经完成了充值和第一个任务，返利已经到账，谢谢。\\n李强: 你做得很好！现在，我们有一个更高价值的任务，你只需充值100元并完成任务，这次返利会更高。\\n王丽: 好的，我马上充值完成任务。\\n李强: 再接再厉，现在我们有一个特别高回报的任务，只需你再充值10000元，完成任务后，你将得到更多返利。\\n王丽: 我已经充值10000元并完成任务，但为什么这次我没有收到返利？\\n李强: 系统提示你的账户存在异常，目前资金被冻结。你需要再充值5000元解冻账户，这样才能提现全部金额。\",device='cuda')",
   "id": "cc5725c9771f8142",
   "outputs": [
    {
     "data": {
      "text/plain": [
       "{'is_fraud': True}"
      ]
     },
     "execution_count": 28,
     "metadata": {},
     "output_type": "execute_result"
    }
   ],
   "execution_count": 28
  },
  {
   "metadata": {},
   "cell_type": "markdown",
   "source": [
    "# 定义评测方法\n",
    "评测主要是对所有数据的预测结果进行是否正确的统计与分析,最终根据自己的侧重点来计算出一两个指标用于评估性能\n",
    "\n",
    "定义test_data来进行分类预测,并返回所有数据的真是标签和预测标签"
   ],
   "id": "bde273613289b252"
  },
  {
   "metadata": {},
   "cell_type": "code",
   "source": [
    "result = pd.read_json(\"./datasets/train_test/test0819.jsonl\", lines=True)\n",
    "result.head()"
   ],
   "id": "b03f36c066de0b5c",
   "outputs": [],
   "execution_count": null
  },
  {
   "metadata": {
    "ExecuteTime": {
     "end_time": "2025-02-12T10:04:31.605504Z",
     "start_time": "2025-02-12T10:04:31.590091Z"
    }
   },
   "cell_type": "code",
   "source": [
    "def run_test(model, tokenizer, test_data, device='cuda', debug=False):\n",
    "    real_labels = []\n",
    "    pred_labels = []\n",
    "\n",
    "\n",
    "    for i, item in tqdm(enumerate(test_data), total=len(test_data), desc=\"Processing\", unit=\"item\"):\n",
    "        if debug:\n",
    "            print(item['input'])\n",
    "\n",
    "        dialog_input = item['input']\n",
    "        real_label = item['label']\n",
    "\n",
    "        prediction = predict(model, tokenizer, dialog_input, device=device, debug=debug)\n",
    "\n",
    "        if debug:\n",
    "            print(f\"prediction is {prediction}\")\n",
    "\n",
    "        pred_label = prediction['is_fraud']\n",
    "\n",
    "        real_labels.append(real_label)\n",
    "        pred_labels.append(pred_label)\n",
    "\n",
    "        if debug and i % (len(test_data) // 20 + 1) == 0:\n",
    "            print(f\"percent: {(i * 100) / len(test_data):.2f}%\")\n",
    "\n",
    "    return real_labels, pred_labels"
   ],
   "id": "adb5ba379c7badc3",
   "outputs": [],
   "execution_count": 29
  },
  {
   "metadata": {
    "ExecuteTime": {
     "end_time": "2025-02-12T10:04:32.644841Z",
     "start_time": "2025-02-12T10:04:32.622840Z"
    }
   },
   "cell_type": "code",
   "source": "test_data[10]",
   "id": "d72e8ed4e8176215",
   "outputs": [
    {
     "data": {
      "text/plain": [
       "{'input': '发言人4: 第二个是历来旅游交通都是景区所谓的增修也好，创新也好，一个主要的一个手段。包括我们一直在统计2销的时候，这个旅游消费，这个旅游交通的消费一直统计到2销面的。其实所以说整体来讲，这个东西不太会有大的一个变化，因为其实坦白讲不太有什么动力去去减少它。\\n发言人3: 好的，明白。我这边暂时没有其他问题了。会议助理麻烦最后再播报一下提问方式，谢谢。\\n发言人2: 大家好，通过网络端介入的投资者可点击举手连麦等候提问，或在文字交流区提交您的问题。通过电话端进入的投资者，请按新一键等候，先按星号键，再按数字一，谢谢。大家好，通过网络端接入的投资者可点击举手连麦等候提问，或在文字交流区提交您的问题。通过电话端进入的投资者，请按新一键等候，先按星号键在数字一，谢谢。\\n发言人2: 大家好，通过网络端介入的投资者可点击举手连麦等候提问，或在文字交流区提交您的问题。通过电话端进入的投资者，请按星一键等候，先按星号键，再按数字一，谢谢。',\n",
       " 'label': False,\n",
       " 'fraud_speaker': '',\n",
       " 'instruction': '\\n下面是一段对话文本, 请分析对话内容是否有诈骗风险，以json格式输出你的判断结果(is_fraud: true/false)。\\n'}"
      ]
     },
     "execution_count": 30,
     "metadata": {},
     "output_type": "execute_result"
    }
   ],
   "execution_count": 30
  },
  {
   "metadata": {
    "ExecuteTime": {
     "end_time": "2025-02-12T10:04:36.094554Z",
     "start_time": "2025-02-12T10:04:32.833219Z"
    }
   },
   "cell_type": "code",
   "source": [
    "real_labels, pred_labels = run_test(model, tokenizer, test_data[:10], debug=True)\n",
    "real_labels, pred_labels\n"
   ],
   "id": "3f27584d9be2bc6b",
   "outputs": [
    {
     "name": "stderr",
     "output_type": "stream",
     "text": [
      "Processing:   0%|          | 0/10 [00:00<?, ?item/s]"
     ]
    },
    {
     "name": "stdout",
     "output_type": "stream",
     "text": [
      "受害者王伟: 我需要仔细考虑一下，毕竟这涉及到很大的资金投入。你能给我一些时间吗？\n",
      "骗子李红: 当然可以，我理解你需要时间来做决定。不过请记住，我们公司的名声是我们最重要的资本，你可以放心地信任我们。\n"
     ]
    },
    {
     "name": "stderr",
     "output_type": "stream",
     "text": [
      "Processing:  10%|█         | 1/10 [00:00<00:04,  2.22item/s]"
     ]
    },
    {
     "name": "stdout",
     "output_type": "stream",
     "text": [
      "prediction is {'is_fraud': True}\n",
      "percent: 0.00%\n",
      "发言人4: 我们国家在基金在基建上的投资会日益减少。因为我们国家以前在公路城市，地铁的程度是很大的那未来我们在这投资，他解决这个投资，当时更多的是解决什么？那是是一个就业问题是？还有其他拉动其他的问题。\n"
     ]
    },
    {
     "name": "stderr",
     "output_type": "stream",
     "text": [
      "Processing:  20%|██        | 2/10 [00:00<00:02,  2.81item/s]"
     ]
    },
    {
     "name": "stdout",
     "output_type": "stream",
     "text": [
      "prediction is {'is_fraud': False}\n",
      "percent: 10.00%\n",
      "甲: 你好，请问你是不是刚刚在网上玩过赌博游戏？\n",
      "乙: 是的，我刚刚玩了一局，在网上输了很多钱。\n",
      "甲: 看来你很倒霉啊，输了这么多钱。不过我这里有一个秘密办法可以帮你赢回来。\n",
      "乙: 真的吗？你能告诉我怎么做吗？\n",
      "甲: 当然可以了！首先，你需要转账给我一定金额的钱，作为赌资。\n",
      "乙: 这个怎么能保证我能赢回来？\n",
      "甲: 相信我，我已经通过分析算法找到了一种必赢的方法，只要你按照我的指示操作，你将100%赢钱。\n",
      "乙: 这听起来太好了！我愿意试一试，可是我没有那么多钱。\n",
      "甲: 没关系，你可以借钱或者找朋友借一些来尝试。你只需要相信我，这是一次能够改变你命运的机会。\n",
      "乙: 好吧，我会尝试一下。请告诉我具体的操作步骤。\n"
     ]
    },
    {
     "name": "stderr",
     "output_type": "stream",
     "text": [
      "Processing:  30%|███       | 3/10 [00:01<00:02,  2.73item/s]"
     ]
    },
    {
     "name": "stdout",
     "output_type": "stream",
     "text": [
      "prediction is {'is_fraud': True}\n",
      "percent: 20.00%\n",
      "发言人3: 所以总体来看，就是未来两三年我们会明显的看到证券的这个信创的项目会比之前会会会要有一个大幅度的一个提升。这是证券这方面的一个一个情况。\n"
     ]
    },
    {
     "name": "stderr",
     "output_type": "stream",
     "text": [
      "Processing:  40%|████      | 4/10 [00:01<00:01,  3.03item/s]"
     ]
    },
    {
     "name": "stdout",
     "output_type": "stream",
     "text": [
      "prediction is {'is_fraud': False}\n",
      "percent: 30.00%\n",
      "发言人3: 当然你说这个行业呢也在确实在发生一些一些转型和变化，您您刚才提到的我们现在行业里面很多金融机构在加大资源的这些这些力度，资源的比例，那行政在这个方面，呢我们也确实看到行业这样一个趋势，我们也及时的调整了我们的一些业务策略，像这种一些个性化的东西，以前可能我们做的都是产品化的东西更多一些，但是现在有客户有个性化的需求以后，我们也要积极的去响应它，我们也有专门的这种个性化的这样一些响应的团队，这样一些响应的团队。\n",
      "发言人3: 同时我们在技术方面，呢我们也在提高提高这种个性化开发的一些效率，提高人的效率，然后提高这种个性化，研发出来产品的这种稳定性，就是通过我们把一些这个技术的基础的底层的平台，就是分布式云原生，我们自己在这个这种架构下研发了一个大的这种扣款平台，把这个分布式的低延时的，包括这个大数据的， AI的这些这些东西都封装在里面，给到客户那边去去使用。\n"
     ]
    },
    {
     "name": "stderr",
     "output_type": "stream",
     "text": [
      "Processing:  50%|█████     | 5/10 [00:01<00:01,  2.99item/s]"
     ]
    },
    {
     "name": "stdout",
     "output_type": "stream",
     "text": [
      "prediction is {'is_fraud': False}\n",
      "percent: 40.00%\n",
      "张伟: 这听起来还不错，但是缅北是国外，会不会有一些风险？\n",
      "李强: 请您放心，我们的公司是正规注册的，所有员工都是按照合法程序招募的。我们也有专业的团队负责处理各类问题，确保您的安全和合法权益。\n",
      "张伟: 好的，那我需要做些什么准备？\n",
      "李强: 您只需要准备好护照和一些个人物品，等我们确认您的行程后，会安排专人带您安全出境，您完全不需要担心其他问题。\n",
      "张伟: 好的，我会尽快准备。希望能顺利到达并开始工作。\n",
      "李强: 放心吧，我们随时保持联系，一定会确保顺利。期待与您合作。\n"
     ]
    },
    {
     "name": "stderr",
     "output_type": "stream",
     "text": [
      "Processing:  60%|██████    | 6/10 [00:02<00:01,  3.10item/s]"
     ]
    },
    {
     "name": "stdout",
     "output_type": "stream",
     "text": [
      "prediction is {'is_fraud': False}\n",
      "percent: 50.00%\n",
      "陈某令: 大家好，我叫陈某令，很高兴能够加入我们的亚元交易平台。我相信你们听说过亚元项目，这是一个非常有潜力的投资机会。我个人经历了一段时间的投资，收益非常可观。现在，我想把这个机会分享给大家，一起赚取高回报。\n",
      "李明: 陈某令，你好。我是李明，很好奇你说的亚元项目是什么。能给我们介绍一下吗？\n",
      "陈某令: 当然可以，李明。亚元项目是一个基于数字货币交易的投资项目。我们通过亚元交易平台进行投资，利用数字货币的波动性赚取差价利润。这个项目非常靠谱，风险相对较小。我们的团队已经建立了稳定的盈利模式，你可以放心加入。\n",
      "王红: 听起来不错，陈某令。那我加入需要缴纳多少费用？\n"
     ]
    },
    {
     "name": "stderr",
     "output_type": "stream",
     "text": [
      "Processing:  70%|███████   | 7/10 [00:02<00:00,  3.20item/s]"
     ]
    },
    {
     "name": "stdout",
     "output_type": "stream",
     "text": [
      "prediction is {'is_fraud': True}\n",
      "percent: 60.00%\n",
      "诈骗者1: 我们的项目结合了区块链、大数据和人工智能等新技术，我们的技术团队在国内有丰富的经验，并成功地建立了众多合作关系，确保了项目的顺利实施。同时，我们与柬埔寨的合作伙伴英雄联盟公司也有良好的合作关系。\n"
     ]
    },
    {
     "name": "stderr",
     "output_type": "stream",
     "text": [
      "Processing:  80%|████████  | 8/10 [00:02<00:00,  3.29item/s]"
     ]
    },
    {
     "name": "stdout",
     "output_type": "stream",
     "text": [
      "prediction is {'is_fraud': True}\n",
      "percent: 70.00%\n",
      "发言人6: 那再往后面看的话，呢我觉得这个事件的关键一个呢就看接下来绕行的这些船舶会不会有加速航行，毕竟呢现在这个船舶航速大概只有15~16节的这个水平，跟设计航速的19节左右的水平呢还是有挺大的差距的。如果说从15 16.7，比如说提高到17 18点，那对于这个运力供给的这个影响的话，可能就是要缩减一半了。\n"
     ]
    },
    {
     "name": "stderr",
     "output_type": "stream",
     "text": [
      "Processing:  90%|█████████ | 9/10 [00:02<00:00,  3.35item/s]"
     ]
    },
    {
     "name": "stdout",
     "output_type": "stream",
     "text": [
      "prediction is {'is_fraud': False}\n",
      "percent: 80.00%\n",
      "诈骗团伙: 我们手中有大量USDT币出售，支持现场交易和验币。价格相对市场价会更低一些。\n",
      "李先生: 听起来不错，我有可能会购买一些USDT币。你能给我提供一些详情吗？\n",
      "诈骗团伙: 当然可以，我们约个时间在大型购物广场见面，到时候可以验币和完成交易。\n",
      "李先生: 好的，我同意了。我们两天后在大型购物广场见面。\n",
      "诈骗团伙: 好的，到时候我们会准时赶到。\n",
      "李先生: 好的，我会准备好的。\n",
      "诈骗团伙: 交易时我们会用一个数字钱包APP进行“U币”转账，你对此了解吗？\n",
      "李先生: 没问题，我对这些数字钱包也知道一些。\n",
      "诈骗团伙: 那太好了，到时候我们会详细教你如何操作。\n",
      "李先生: 好的，谢谢你们的指导。\n"
     ]
    },
    {
     "name": "stderr",
     "output_type": "stream",
     "text": [
      "Processing: 100%|██████████| 10/10 [00:03<00:00,  3.08item/s]"
     ]
    },
    {
     "name": "stdout",
     "output_type": "stream",
     "text": [
      "prediction is {'is_fraud': True}\n",
      "percent: 90.00%\n"
     ]
    },
    {
     "name": "stderr",
     "output_type": "stream",
     "text": [
      "\n"
     ]
    },
    {
     "data": {
      "text/plain": [
       "([True, False, True, False, False, True, False, True, False, True],\n",
       " [True, False, True, False, False, False, True, True, False, True])"
      ]
     },
     "execution_count": 31,
     "metadata": {},
     "output_type": "execute_result"
    }
   ],
   "execution_count": 31
  },
  {
   "metadata": {},
   "cell_type": "markdown",
   "source": [
    "## 定义计算召回率 和 精确率 的方法\n",
    "confusion_matrix函数接受一个标签分类值集合和预测分类值集合,返回一个2x2的矩阵包含4个数据,分别是真负,假正,假负,真正的四个统计数字\n",
    "\n",
    "precision:精确率 表示预测为正的结果中有多少是真的证值,计算公式为: 精确率=真正/(真正+假正)\n",
    "recall:召回率,表示标签中为正的数据有多少被成功预测召回,计算公式为:召回率 = 真正/(真正+假负)\n"
   ],
   "id": "a637239ed9cea898"
  },
  {
   "metadata": {
    "ExecuteTime": {
     "end_time": "2025-02-12T10:04:36.105811Z",
     "start_time": "2025-02-12T10:04:36.094554Z"
    }
   },
   "cell_type": "code",
   "source": [
    "def precision_recall(true_labels, pred_labels, labels=None, debug=False):\n",
    "    cm = confusion_matrix(true_labels, pred_labels,labels=labels)\n",
    "    tn, fp, fn, tp = cm.ravel()\n",
    "    print(f\"tn:{tn}, fp:{fp}, fn:{fn}, tp:{tp}\") if debug else None\n",
    "\n",
    "    precision = tp / (tp + fp)\n",
    "    recall = tp / (tp + fn)\n",
    "\n",
    "    return precision, recall\n",
    "precision_recall(real_labels, pred_labels, labels=[True, False], debug=False)\n"
   ],
   "id": "e91f117b075fabf8",
   "outputs": [
    {
     "data": {
      "text/plain": [
       "(np.float64(0.8), np.float64(0.8))"
      ]
     },
     "execution_count": 32,
     "metadata": {},
     "output_type": "execute_result"
    }
   ],
   "execution_count": 32
  },
  {
   "metadata": {},
   "cell_type": "markdown",
   "source": [
    "## 运行评测\n",
    "将上面的步骤封装到一个evaluate方法中,这样只需要一句代码就能对指定的模型进行评估,并输出结果"
   ],
   "id": "755e0857609a1bc2"
  },
  {
   "metadata": {
    "ExecuteTime": {
     "end_time": "2025-02-13T02:58:03.590439Z",
     "start_time": "2025-02-13T02:58:03.411240Z"
    }
   },
   "cell_type": "code",
   "source": [
    "def evaluate(model_path, check_point_path, dataset, device='cuda', debug=False):\n",
    "    model, tokenizer = load_model(model_path, checkpoint_path=check_point_path, device=device)\n",
    "    true_labels, pred_labels = run_test(model, tokenizer, dataset, device=device, debug=debug)\n",
    "    precision, recall = precision_recall(true_labels, pred_labels, labels=[True, False], debug=True)\n",
    "    print(f\"precision:{precision}, recall:{recall}\")\n",
    "\n",
    "evaluate(model_path, '', test_data, device='cuda', debug=False)"
   ],
   "id": "ee4aba83dbc9387f",
   "outputs": [
    {
     "ename": "NameError",
     "evalue": "name 'model_path' is not defined",
     "output_type": "error",
     "traceback": [
      "\u001B[1;31m---------------------------------------------------------------------------\u001B[0m",
      "\u001B[1;31mNameError\u001B[0m                                 Traceback (most recent call last)",
      "Cell \u001B[1;32mIn[1], line 7\u001B[0m\n\u001B[0;32m      4\u001B[0m     precision, recall \u001B[38;5;241m=\u001B[39m precision_recall(true_labels, pred_labels, labels\u001B[38;5;241m=\u001B[39m[\u001B[38;5;28;01mTrue\u001B[39;00m, \u001B[38;5;28;01mFalse\u001B[39;00m], debug\u001B[38;5;241m=\u001B[39m\u001B[38;5;28;01mTrue\u001B[39;00m)\n\u001B[0;32m      5\u001B[0m     \u001B[38;5;28mprint\u001B[39m(\u001B[38;5;124mf\u001B[39m\u001B[38;5;124m\"\u001B[39m\u001B[38;5;124mprecision:\u001B[39m\u001B[38;5;132;01m{\u001B[39;00mprecision\u001B[38;5;132;01m}\u001B[39;00m\u001B[38;5;124m, recall:\u001B[39m\u001B[38;5;132;01m{\u001B[39;00mrecall\u001B[38;5;132;01m}\u001B[39;00m\u001B[38;5;124m\"\u001B[39m)\n\u001B[1;32m----> 7\u001B[0m evaluate(\u001B[43mmodel_path\u001B[49m, \u001B[38;5;124m'\u001B[39m\u001B[38;5;124m'\u001B[39m, test_data, device\u001B[38;5;241m=\u001B[39m\u001B[38;5;124m'\u001B[39m\u001B[38;5;124mcuda\u001B[39m\u001B[38;5;124m'\u001B[39m, debug\u001B[38;5;241m=\u001B[39m\u001B[38;5;28;01mFalse\u001B[39;00m)\n",
      "\u001B[1;31mNameError\u001B[0m: name 'model_path' is not defined"
     ]
    }
   ],
   "execution_count": 1
  }
 ],
 "metadata": {
  "kernelspec": {
   "display_name": "Python 3",
   "language": "python",
   "name": "python3"
  },
  "language_info": {
   "codemirror_mode": {
    "name": "ipython",
    "version": 2
   },
   "file_extension": ".py",
   "mimetype": "text/x-python",
   "name": "python",
   "nbconvert_exporter": "python",
   "pygments_lexer": "ipython2",
   "version": "2.7.6"
  }
 },
 "nbformat": 4,
 "nbformat_minor": 5
}
