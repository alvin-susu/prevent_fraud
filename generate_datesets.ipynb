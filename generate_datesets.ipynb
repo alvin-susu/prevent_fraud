{
 "cells": [
  {
   "metadata": {},
   "cell_type": "markdown",
   "source": "# 数据集",
   "id": "c4911d5476cde150"
  },
  {
   "cell_type": "code",
   "id": "initial_id",
   "metadata": {
    "collapsed": true,
    "ExecuteTime": {
     "end_time": "2025-02-12T07:46:16.031883Z",
     "start_time": "2025-02-12T07:46:15.731639Z"
    }
   },
   "source": [
    "import pandas as pd\n",
    "\n",
    "file_path = \"./datasets/Fraud_News_Reports/冒充客服诈骗(200).csv\"\n",
    "dataset = pd.read_csv(file_path)\n",
    "dataset.head()"
   ],
   "outputs": [
    {
     "data": {
      "text/plain": [
       "                       标题                                               标题链接  \\\n",
       "0   近期高发!警惕冒充电商物流客服骗局!视频↘  https://so.toutiao.com/search/jump?url=http%3A...   \n",
       "1        假客服，真诈骗!受害人现身说法!  https://so.toutiao.com/search/jump?url=http%3A...   \n",
       "2  被骗100余万!又是假冒客服诈骗，16人落网  https://so.toutiao.com/search/jump?url=http%3A...   \n",
       "3              警惕!冒充客服类诈骗  https://so.toutiao.com/search/jump?url=http%3A...   \n",
       "4      又出新花招!!“平台客服”骗局它来了  https://so.toutiao.com/search/jump?url=http%3A...   \n",
       "\n",
       "                                             首页缩略封面图  \\\n",
       "0                                                NaN   \n",
       "1  http://p1-tt.byteimg.com/img/tos-cn-i-qvj2lq49...   \n",
       "2  https://p3-sign.toutiaoimg.com/tos-cn-i-tjoges...   \n",
       "3  https://p3-sign.toutiaoimg.com/tos-cn-i-6w9my0...   \n",
       "4  https://p3-sign.toutiaoimg.com/tos-cn-i-tjoges...   \n",
       "\n",
       "                                              首页缩略文段    发布者  \\\n",
       "0  深入揭批电信网络诈骗套路手法,进一步增强知诈、识诈、防诈、反诈意识,筑牢反诈“防火墙”。 冒...  平安哈尔滨   \n",
       "1  1、诈骗分子往往通过不法渠道获取到公民个人信息,再利用192”+、00”开头的境外号码、“区...   潍坊网警   \n",
       "2  电信诈骗案案件回顾近日,牡丹分局北城派出所接到辖区居民陈某报警,称其遭遇冒充客服诈骗,被骗1...    环球网   \n",
       "3  冒充客服诈骗主要分为以下几类 01 网购商品出现问题或免费赠送小家电 一是冒充淘宝、京东、抖...   平安石柱   \n",
       "4  接下来给大家分析一下冒充客服诈骗的手法第一步:事主接到电话(固话、手机号码),嫌疑人自称“平...   广州公安   \n",
       "\n",
       "                                              文章正文内容  \\\n",
       "0  为全面提升群众防范电信网络诈骗能力和水平，增强安全防范意识，哈尔滨市委政法委认真梳理归纳出目...   \n",
       "1  假客服，真诈骗！受害人现身说法！\\r\\n\\r\\n“您好，我是京东客服”\\r\\n\\r\\n“不关...   \n",
       "2  来源：菏泽公安\\r\\n\\r\\n“双11”刚刚过去\\r\\n\\r\\n“双12”又紧跟着要来了\\r...   \n",
       "3  网络购物的快速发展\\r\\n\\r\\n让人们享受到了其带来的便利\\r\\n\\r\\n也产生了一大批网...   \n",
       "4                                                NaN   \n",
       "\n",
       "                                                图片链接  \n",
       "0                                                NaN  \n",
       "1  https://p3-sign.toutiaoimg.com/tos-cn-i-qvj2lq...  \n",
       "2  https://p3-sign.toutiaoimg.com/tos-cn-i-tjoges...  \n",
       "3  https://p3-sign.toutiaoimg.com/tos-cn-i-axegup...  \n",
       "4                                                NaN  "
      ],
      "text/html": [
       "<div>\n",
       "<style scoped>\n",
       "    .dataframe tbody tr th:only-of-type {\n",
       "        vertical-align: middle;\n",
       "    }\n",
       "\n",
       "    .dataframe tbody tr th {\n",
       "        vertical-align: top;\n",
       "    }\n",
       "\n",
       "    .dataframe thead th {\n",
       "        text-align: right;\n",
       "    }\n",
       "</style>\n",
       "<table border=\"1\" class=\"dataframe\">\n",
       "  <thead>\n",
       "    <tr style=\"text-align: right;\">\n",
       "      <th></th>\n",
       "      <th>标题</th>\n",
       "      <th>标题链接</th>\n",
       "      <th>首页缩略封面图</th>\n",
       "      <th>首页缩略文段</th>\n",
       "      <th>发布者</th>\n",
       "      <th>文章正文内容</th>\n",
       "      <th>图片链接</th>\n",
       "    </tr>\n",
       "  </thead>\n",
       "  <tbody>\n",
       "    <tr>\n",
       "      <th>0</th>\n",
       "      <td>近期高发!警惕冒充电商物流客服骗局!视频↘</td>\n",
       "      <td>https://so.toutiao.com/search/jump?url=http%3A...</td>\n",
       "      <td>NaN</td>\n",
       "      <td>深入揭批电信网络诈骗套路手法,进一步增强知诈、识诈、防诈、反诈意识,筑牢反诈“防火墙”。 冒...</td>\n",
       "      <td>平安哈尔滨</td>\n",
       "      <td>为全面提升群众防范电信网络诈骗能力和水平，增强安全防范意识，哈尔滨市委政法委认真梳理归纳出目...</td>\n",
       "      <td>NaN</td>\n",
       "    </tr>\n",
       "    <tr>\n",
       "      <th>1</th>\n",
       "      <td>假客服，真诈骗!受害人现身说法!</td>\n",
       "      <td>https://so.toutiao.com/search/jump?url=http%3A...</td>\n",
       "      <td>http://p1-tt.byteimg.com/img/tos-cn-i-qvj2lq49...</td>\n",
       "      <td>1、诈骗分子往往通过不法渠道获取到公民个人信息,再利用192”+、00”开头的境外号码、“区...</td>\n",
       "      <td>潍坊网警</td>\n",
       "      <td>假客服，真诈骗！受害人现身说法！\\r\\n\\r\\n“您好，我是京东客服”\\r\\n\\r\\n“不关...</td>\n",
       "      <td>https://p3-sign.toutiaoimg.com/tos-cn-i-qvj2lq...</td>\n",
       "    </tr>\n",
       "    <tr>\n",
       "      <th>2</th>\n",
       "      <td>被骗100余万!又是假冒客服诈骗，16人落网</td>\n",
       "      <td>https://so.toutiao.com/search/jump?url=http%3A...</td>\n",
       "      <td>https://p3-sign.toutiaoimg.com/tos-cn-i-tjoges...</td>\n",
       "      <td>电信诈骗案案件回顾近日,牡丹分局北城派出所接到辖区居民陈某报警,称其遭遇冒充客服诈骗,被骗1...</td>\n",
       "      <td>环球网</td>\n",
       "      <td>来源：菏泽公安\\r\\n\\r\\n“双11”刚刚过去\\r\\n\\r\\n“双12”又紧跟着要来了\\r...</td>\n",
       "      <td>https://p3-sign.toutiaoimg.com/tos-cn-i-tjoges...</td>\n",
       "    </tr>\n",
       "    <tr>\n",
       "      <th>3</th>\n",
       "      <td>警惕!冒充客服类诈骗</td>\n",
       "      <td>https://so.toutiao.com/search/jump?url=http%3A...</td>\n",
       "      <td>https://p3-sign.toutiaoimg.com/tos-cn-i-6w9my0...</td>\n",
       "      <td>冒充客服诈骗主要分为以下几类 01 网购商品出现问题或免费赠送小家电 一是冒充淘宝、京东、抖...</td>\n",
       "      <td>平安石柱</td>\n",
       "      <td>网络购物的快速发展\\r\\n\\r\\n让人们享受到了其带来的便利\\r\\n\\r\\n也产生了一大批网...</td>\n",
       "      <td>https://p3-sign.toutiaoimg.com/tos-cn-i-axegup...</td>\n",
       "    </tr>\n",
       "    <tr>\n",
       "      <th>4</th>\n",
       "      <td>又出新花招!!“平台客服”骗局它来了</td>\n",
       "      <td>https://so.toutiao.com/search/jump?url=http%3A...</td>\n",
       "      <td>https://p3-sign.toutiaoimg.com/tos-cn-i-tjoges...</td>\n",
       "      <td>接下来给大家分析一下冒充客服诈骗的手法第一步:事主接到电话(固话、手机号码),嫌疑人自称“平...</td>\n",
       "      <td>广州公安</td>\n",
       "      <td>NaN</td>\n",
       "      <td>NaN</td>\n",
       "    </tr>\n",
       "  </tbody>\n",
       "</table>\n",
       "</div>"
      ]
     },
     "execution_count": 1,
     "metadata": {},
     "output_type": "execute_result"
    }
   ],
   "execution_count": 1
  },
  {
   "metadata": {
    "ExecuteTime": {
     "end_time": "2025-02-12T07:49:02.056839Z",
     "start_time": "2025-02-12T07:49:02.041266Z"
    }
   },
   "cell_type": "code",
   "source": [
    "import textwrap\n",
    "def pretty_print(text):\n",
    "    wrapped_text = textwrap.fill(text, width=80)\n",
    "    print(wrapped_text)\n",
    "column_content = \"文章正文内容\"\n",
    "pretty_print(dataset.iloc[1][column_content])"
   ],
   "id": "4b7eabaddc45b7ff",
   "outputs": [
    {
     "name": "stdout",
     "output_type": "stream",
     "text": [
      "假客服，真诈骗！受害人现身说法！    “您好，我是京东客服”    “不关闭京东金条，会影响征信”    “不知道如何关闭？”\n",
      "“没关系，我来教您......”    以案说诈    3月15日14时许，受害人林先生在家中接到一通自称是“京东客服”的陌生来电，对方称林先生开通的京东金条，\n",
      "由于利率过高，根据国家政策规定需要关闭，否则会影响到个人征信。因为害怕自己的征信出现问题，林先生一时放松了警惕，按照对方的要求操作，关闭京东金条。之后，对方又称\n",
      "林先生名下还有微信“微粒贷”需要关闭，让其将微粒贷额度全部提现至个人银行账户。为方便操作，让林先生 下载\"云视通\"APP加入视频会议进行远程指导。林先生按照对方\n",
      "的要求打开了屏幕共享功能，在对方的指导下进行了操作。在对方的诱导下，林先生将20万元转到了对方提供的账户。\n",
      "在家人的提醒下，林先生才发现自己上当受骗，遂拨打110报警求助。民警接到报警后，迅速启动止付程序，为林先生挽回了15.2万元。目前，案件正在进一步办理中。\n",
      "现身说法    诈骗手段层出不穷，迷惑性极强，小编为大家整理了此类诈骗案件套路。请大家一定要提高警愓，提升反诈骗意识，不要轻信陌生人。    1、诈骗分子往往通\n",
      "过不法渠道获取到公民个人信息，再利用192”+、00”开头的境外号码、“区号+座机号码\"等固定电话或手机冒充平台客服，准确报出受害人的个人信息骗取信任。\n",
      "2、告知受害人不注销京东金条，会影响个人征信或以利率高于国家规定等理由，诱导受害人按照他们设定好的套路进行操作。\n",
      "3、诈骗分子首先会让受害人下载一些能屏幕共享的视频会议 APP，如云视讯、飞书等，远程指导并观看受害人的操作，引导受害人到借贷平台进行贷款。\n",
      "4、诱导受害人将借贷app中的额度全部提出，以\"中间账户”“降低利息”“注销要求”为借口，让其将款项转到指定银行账户，从而实施诈骗。    警方提示    1、\n",
      "核实身份官网认证。银监会、京东客服电话不会主动外呼，外呼客服号码为固定短号。如接到自称银监会、京东客服的电话，请提高警惕，切勿轻易转账，如有疑问请直接拨打961\n",
      "10咨询。    2、 拒不透露个人信息。身份信息、银行账户、验证码、各类密码要小心保管，绝不透露。\n",
      "3、不加好友、不开视频。如对方要求添加私人社交账号或各类视频会议软件进行屏幕共享等协助操作，一定要果断拒绝！\n",
      "4、绝不转账、借贷。如对方要求操作转账或者进行借贷，统统不要理会！\n",
      "5、谈及征信切勿慌张。﻿个人征信由中国人民银行统一管理，任何人无权删除或修改，如对个人征信存疑可登录中国人民银行征信中心查询。\n"
     ]
    }
   ],
   "execution_count": 3
  },
  {
   "metadata": {},
   "cell_type": "markdown",
   "source": "# 生成反向数据集",
   "id": "e57a11a801a41f66"
  },
  {
   "metadata": {
    "ExecuteTime": {
     "end_time": "2025-02-12T07:53:07.953582Z",
     "start_time": "2025-02-12T07:53:07.938505Z"
    }
   },
   "cell_type": "code",
   "source": "",
   "id": "3d551817b27c9d33",
   "outputs": [
    {
     "data": {
      "text/plain": [
       "   case speaker                                            content  is_fraud\n",
       "0  案例-0      李华                          您好，这里是电商平台的客服中心，请问您是张先生吗？     False\n",
       "1  案例-0      张伟                                   是的，我是张伟，请问有什么事吗？     False\n",
       "2  案例-0      李华  张先生，您最近在我平台上购买了一些商品对吧？我们这边检测到您的商品可能存在质量问题，为了保障...      True\n",
       "3  案例-0      张伟                                     哦，真的吗？那该怎么操作呢？     False\n",
       "4  案例-0      李华           我们需要您提供您的订单号和一些个人信息，以便我们核实您的身份并快速处理您的退款。      True"
      ],
      "text/html": [
       "<div>\n",
       "<style scoped>\n",
       "    .dataframe tbody tr th:only-of-type {\n",
       "        vertical-align: middle;\n",
       "    }\n",
       "\n",
       "    .dataframe tbody tr th {\n",
       "        vertical-align: top;\n",
       "    }\n",
       "\n",
       "    .dataframe thead th {\n",
       "        text-align: right;\n",
       "    }\n",
       "</style>\n",
       "<table border=\"1\" class=\"dataframe\">\n",
       "  <thead>\n",
       "    <tr style=\"text-align: right;\">\n",
       "      <th></th>\n",
       "      <th>case</th>\n",
       "      <th>speaker</th>\n",
       "      <th>content</th>\n",
       "      <th>is_fraud</th>\n",
       "    </tr>\n",
       "  </thead>\n",
       "  <tbody>\n",
       "    <tr>\n",
       "      <th>0</th>\n",
       "      <td>案例-0</td>\n",
       "      <td>李华</td>\n",
       "      <td>您好，这里是电商平台的客服中心，请问您是张先生吗？</td>\n",
       "      <td>False</td>\n",
       "    </tr>\n",
       "    <tr>\n",
       "      <th>1</th>\n",
       "      <td>案例-0</td>\n",
       "      <td>张伟</td>\n",
       "      <td>是的，我是张伟，请问有什么事吗？</td>\n",
       "      <td>False</td>\n",
       "    </tr>\n",
       "    <tr>\n",
       "      <th>2</th>\n",
       "      <td>案例-0</td>\n",
       "      <td>李华</td>\n",
       "      <td>张先生，您最近在我平台上购买了一些商品对吧？我们这边检测到您的商品可能存在质量问题，为了保障...</td>\n",
       "      <td>True</td>\n",
       "    </tr>\n",
       "    <tr>\n",
       "      <th>3</th>\n",
       "      <td>案例-0</td>\n",
       "      <td>张伟</td>\n",
       "      <td>哦，真的吗？那该怎么操作呢？</td>\n",
       "      <td>False</td>\n",
       "    </tr>\n",
       "    <tr>\n",
       "      <th>4</th>\n",
       "      <td>案例-0</td>\n",
       "      <td>李华</td>\n",
       "      <td>我们需要您提供您的订单号和一些个人信息，以便我们核实您的身份并快速处理您的退款。</td>\n",
       "      <td>True</td>\n",
       "    </tr>\n",
       "  </tbody>\n",
       "</table>\n",
       "</div>"
      ]
     },
     "execution_count": 6,
     "metadata": {},
     "output_type": "execute_result"
    }
   ],
   "execution_count": 6
  }
 ],
 "metadata": {
  "kernelspec": {
   "display_name": "Python 3",
   "language": "python",
   "name": "python3"
  },
  "language_info": {
   "codemirror_mode": {
    "name": "ipython",
    "version": 2
   },
   "file_extension": ".py",
   "mimetype": "text/x-python",
   "name": "python",
   "nbconvert_exporter": "python",
   "pygments_lexer": "ipython2",
   "version": "2.7.6"
  }
 },
 "nbformat": 4,
 "nbformat_minor": 5
}
