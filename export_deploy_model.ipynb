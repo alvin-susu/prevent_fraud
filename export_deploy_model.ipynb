{
 "cells": [
  {
   "metadata": {},
   "cell_type": "markdown",
   "source": [
    "# 模型的导出与部署\n",
    "\n",
    "在使用LoRA适配器训练完后，每次推理时候都需要分别加载基座模型和LoRA适配器\n",
    "- 比较繁琐\n",
    "- 不利于模型部署\n",
    "\n",
    "# 导出模型\n",
    "LLamaFactory 中自带模型的合并功能，只需要从 `examples/merge_lora/llama3_lora_sft.yaml` 拷贝一份配置根据自己的情况进行修改。"
   ],
   "id": "861ba9ed8ad7f742"
  },
  {
   "cell_type": "code",
   "execution_count": null,
   "id": "initial_id",
   "metadata": {
    "collapsed": true
   },
   "outputs": [],
   "source": [
    ""
   ]
  }
 ],
 "metadata": {
  "kernelspec": {
   "display_name": "Python 3",
   "language": "python",
   "name": "python3"
  },
  "language_info": {
   "codemirror_mode": {
    "name": "ipython",
    "version": 2
   },
   "file_extension": ".py",
   "mimetype": "text/x-python",
   "name": "python",
   "nbconvert_exporter": "python",
   "pygments_lexer": "ipython2",
   "version": "2.7.6"
  }
 },
 "nbformat": 4,
 "nbformat_minor": 5
}
